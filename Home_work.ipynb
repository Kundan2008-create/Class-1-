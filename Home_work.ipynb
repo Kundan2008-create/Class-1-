{
  "nbformat": 4,
  "nbformat_minor": 0,
  "metadata": {
    "colab": {
      "provenance": [],
      "authorship_tag": "ABX9TyOvC8LGARdzHwiHE37pL6Xg",
      "include_colab_link": true
    },
    "kernelspec": {
      "name": "python3",
      "display_name": "Python 3"
    },
    "language_info": {
      "name": "python"
    }
  },
  "cells": [
    {
      "cell_type": "markdown",
      "metadata": {
        "id": "view-in-github",
        "colab_type": "text"
      },
      "source": [
        "<a href=\"https://colab.research.google.com/github/Kundan2008-create/Class-1-/blob/main/Home_work.ipynb\" target=\"_parent\"><img src=\"https://colab.research.google.com/assets/colab-badge.svg\" alt=\"Open In Colab\"/></a>"
      ]
    },
    {
      "cell_type": "code",
      "execution_count": null,
      "metadata": {
        "id": "Bd4kEEqO2rh7"
      },
      "outputs": [],
      "source": [
        "print(\"Enter Your Name = kundan  \")\n",
        "print(\"Ente your Age = 17  \")\n",
        "# This program classifies a person based on their age\n",
        "# Classifying age group\n",
        "if age < 13:\n",
        "    group = \"Child\"\n",
        "if age < 20:\n",
        "    group = \"Teenager\"\n",
        "if age < 60:\n",
        "    group = \"Adult\"\n",
        "if:\n",
        "    group = \"Senior\"\n",
        "\n",
        "# Printing the result\n",
        "print(\"You are classified as a:\", group)\n",
        "\n"
      ]
    },
    {
      "cell_type": "code",
      "source": [],
      "metadata": {
        "id": "LH-WdN848FUH"
      },
      "execution_count": null,
      "outputs": []
    },
    {
      "cell_type": "markdown",
      "source": [
        "# Age Group Classifiers"
      ],
      "metadata": {
        "id": "RfudUlit8OPK"
      }
    },
    {
      "cell_type": "code",
      "source": [
        "print(\" 1. Enter Your Name = kundan\")\n",
        "print(\"    Enter  your Age = 17 \")\n",
        "print(\" 2. Enter your name = Aayush verma\")\n",
        "print(\"    Enter Your Age = 28 \")\n",
        "age = 25\n",
        "# This program Classifies a person Based on their age\n",
        "# Classifying age group\n",
        "if age < 13:\n",
        "   group = \" Child\"\n",
        "elif age < 20 :\n",
        "   group = \" Teenager\"\n",
        "elif age < 60 :\n",
        "   group = \" Adult\"\n",
        "else:\n",
        "    group = \" Senior \"\n",
        "print(\" you are classified as a:\" , group)\n"
      ],
      "metadata": {
        "id": "BgSFC4Mo4fs6",
        "colab": {
          "base_uri": "https://localhost:8080/"
        },
        "outputId": "da9773dd-0cfd-48b2-c311-0e2b7f046d1e"
      },
      "execution_count": 3,
      "outputs": [
        {
          "output_type": "stream",
          "name": "stdout",
          "text": [
            " 1. Enter Your Name = kundan\n",
            "    Enter  your Age = 17 \n",
            " 2. Enter your name = Aayush verma\n",
            "    Enter Your Age = 28 \n",
            " you are classified as a:  Adult\n"
          ]
        }
      ]
    },
    {
      "cell_type": "markdown",
      "source": [
        "Age group classifiers"
      ],
      "metadata": {
        "id": "9uap0bfn8HCD"
      }
    },
    {
      "cell_type": "code",
      "source": [],
      "metadata": {
        "id": "eiUSBIjf8BAm"
      },
      "execution_count": null,
      "outputs": []
    }
  ]
}