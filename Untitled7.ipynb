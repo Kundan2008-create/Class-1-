{
  "nbformat": 4,
  "nbformat_minor": 0,
  "metadata": {
    "colab": {
      "provenance": [],
      "authorship_tag": "ABX9TyMqaQVhzPs6nW8GuIBA0JBR",
      "include_colab_link": true
    },
    "kernelspec": {
      "name": "python3",
      "display_name": "Python 3"
    },
    "language_info": {
      "name": "python"
    }
  },
  "cells": [
    {
      "cell_type": "markdown",
      "metadata": {
        "id": "view-in-github",
        "colab_type": "text"
      },
      "source": [
        "<a href=\"https://colab.research.google.com/github/Kundan2008-create/Class-1-/blob/main/Untitled7.ipynb\" target=\"_parent\"><img src=\"https://colab.research.google.com/assets/colab-badge.svg\" alt=\"Open In Colab\"/></a>"
      ]
    },
    {
      "cell_type": "code",
      "source": [],
      "metadata": {
        "id": "pO1DQ-s2SCBX"
      },
      "execution_count": null,
      "outputs": []
    },
    {
      "cell_type": "markdown",
      "source": [],
      "metadata": {
        "id": "iwvQBJcwSBUD"
      }
    },
    {
      "cell_type": "code",
      "source": [
        "days = \"Saturday\"\n",
        "if days == \"Sunday\":\n",
        "  print(\"weekend\")\n",
        "elif days == \"Monday\":\n",
        " print(\"Weekday\")\n",
        "elif days == \"Tuesday\":\n",
        " print(\"Weekday\")\n",
        "elif days == \"Wednesday\":\n",
        " print(\"Weekday\")\n",
        "elif days == \"Thursday\":\n",
        " print(\"Weekday\")\n",
        "elif days ==\"Friday\":\n",
        " print(\"Weekday\")\n",
        "elif days ==\"Saturday\":\n",
        " print(\"Weekend\")\n",
        "else :\n",
        "  print(\"days is not mentioned\")\n",
        "\n"
      ],
      "metadata": {
        "colab": {
          "base_uri": "https://localhost:8080/"
        },
        "id": "Fmvnx1pwP5D4",
        "outputId": "54d8f482-1054-4a40-984a-d72da407d90d"
      },
      "execution_count": 16,
      "outputs": [
        {
          "output_type": "stream",
          "name": "stdout",
          "text": [
            "Weekend\n"
          ]
        }
      ]
    },
    {
      "cell_type": "code",
      "source": [
        "# INVOINCE\n",
        "print(\"*Ecommerce Bill*\")\n",
        "t_shirt = 25\n",
        "discount_on_t_shirt = 25\n",
        "sport_shoes = 580\n",
        "discount_on_sport_shoes = 50\n",
        "watch_g_shock = 1500\n",
        "Phone_cover = 150\n",
        "Laptop_Bag = 560\n",
        "foldable_Glass = 5800\n",
        "print(\"t_shirt\" , -  t_shirt)\n",
        "print(\"sport_shoes\" , -  sport_shoes)\n",
        "print(\"watch_g_shock\" , -  watch_g_shock)\n",
        "print(\"phone_cover\" , -  Phone_cover)\n",
        "print(\"Laptop_Bag\" , -  Laptop_Bag)\n",
        "print(\"foldable_Glass\" , -  foldable_Glass)\n",
        "Total_amount_Payable = t_shirt+sport_shoes+watch_g_shock+Phone_cover+Laptop_Bag+foldable_Glass\n",
        "print(\"Total_amount_payable\" , t_shirt+sport_shoes+watch_g_shock+Phone_cover+Laptop_Bag+foldable_Glass)\n",
        "discount_on_sport_shoes = sport_shoes * discount_on_sport_shoes / 100\n",
        "print(\"discount_on_sport_shoes\" , sport_shoes * discount_on_sport_shoes / 100)\n",
        "discount_on_t_shirt = t_shirt * 25 / 100\n",
        "print(\" discount_on_t_shirt \" , t_shirt * 25 / 100 )"
      ],
      "metadata": {
        "colab": {
          "base_uri": "https://localhost:8080/"
        },
        "id": "WwCJnohoR45T",
        "outputId": "3d57272e-570e-454c-8d66-717a6ccb0b3c"
      },
      "execution_count": 43,
      "outputs": [
        {
          "output_type": "stream",
          "name": "stdout",
          "text": [
            "*Ecommerce Bill*\n",
            "t_shirt -25\n",
            "sport_shoes -580\n",
            "watch_g_shock -1500\n",
            "phone_cover -150\n",
            "Laptop_Bag -560\n",
            "foldable_Glass -5800\n",
            "Total_amount_payable 8615\n",
            "discount_on_sport_shoes 1682.0\n",
            " discount_on_t_shirt  6.25\n"
          ]
        }
      ]
    }
  ]
}