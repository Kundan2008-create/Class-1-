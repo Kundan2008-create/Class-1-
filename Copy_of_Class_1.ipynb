{
  "nbformat": 4,
  "nbformat_minor": 0,
  "metadata": {
    "colab": {
      "provenance": [],
      "authorship_tag": "ABX9TyM8SYlhz5NzZb2tpMUYj/lZ",
      "include_colab_link": true
    },
    "kernelspec": {
      "name": "python3",
      "display_name": "Python 3"
    },
    "language_info": {
      "name": "python"
    }
  },
  "cells": [
    {
      "cell_type": "markdown",
      "metadata": {
        "id": "view-in-github",
        "colab_type": "text"
      },
      "source": [
        "<a href=\"https://colab.research.google.com/github/Kundan2008-create/Class-1-/blob/main/Copy_of_Class_1.ipynb\" target=\"_parent\"><img src=\"https://colab.research.google.com/assets/colab-badge.svg\" alt=\"Open In Colab\"/></a>"
      ]
    },
    {
      "cell_type": "code",
      "execution_count": null,
      "metadata": {
        "id": "3JZtQ1xv1rqR"
      },
      "outputs": [],
      "source": [
        "print(\"\")"
      ]
    },
    {
      "cell_type": "code",
      "source": [
        "print(\" Account holder name = kundan \")\n",
        "print(\"Registered mobile number = 86992135982 \")\n",
        "print(\" Residential Address = Daria \")\n",
        "print(\" Account Details \")\n",
        "print(\" Account Type = Saving \")\n",
        "print(\" Account Balance = 10000 Crore\")"
      ],
      "metadata": {
        "colab": {
          "base_uri": "https://localhost:8080/"
        },
        "id": "2L9hsF1-AvFM",
        "outputId": "abc4fae1-5af2-456e-f775-70bdb4cfb6af"
      },
      "execution_count": 3,
      "outputs": [
        {
          "output_type": "stream",
          "name": "stdout",
          "text": [
            " Account holder name = kundan \n",
            "Registered mobile number = 86992135982 \n",
            " Residential Address = Daria \n",
            " Account Details \n",
            " Account Type = Saving \n",
            " Account Balance = 10000 Crore\n"
          ]
        }
      ]
    },
    {
      "cell_type": "code",
      "source": [
        "a = Kundan\n",
        "print(\"name\")\n"
      ],
      "metadata": {
        "id": "KhbazgHD2Rad"
      },
      "execution_count": null,
      "outputs": []
    },
    {
      "cell_type": "code",
      "source": [
        "a = (\" My name is kundan\")\n",
        "print(a)\n",
        "b = 17\n",
        "print(b)\n",
        "c = (\"I Live in a Daria chandigarh\")\n",
        "print(c)\n",
        "d = (\" i studeid in 11th class\")\n",
        "print(d)\n",
        "e = (\" I choose Stream OF +1 class of commerce \")\n",
        "print(e)\n",
        "\n"
      ],
      "metadata": {
        "colab": {
          "base_uri": "https://localhost:8080/"
        },
        "id": "6-mmgVu22l4B",
        "outputId": "0a85db5a-2295-42dd-b5c9-0d72e25a5633"
      },
      "execution_count": null,
      "outputs": [
        {
          "output_type": "stream",
          "name": "stdout",
          "text": [
            " My name is kundan\n",
            "17\n",
            "I Live in a Daria chandigarh\n",
            " i studeid in 11th class\n",
            " I choose Stream OF +1 class of commerce \n"
          ]
        }
      ]
    },
    {
      "cell_type": "code",
      "source": [
        "print(\" My name is kundan \")\n",
        "print(\" My age is 17 years old \")\n",
        "print(\"I live in Daria chandigarh \")\n",
        "print(\" I studied in 11th class \")"
      ],
      "metadata": {
        "colab": {
          "base_uri": "https://localhost:8080/"
        },
        "id": "5nCKCOyw4TCH",
        "outputId": "b7f336f4-0fbe-427b-b165-ea522aed420b"
      },
      "execution_count": null,
      "outputs": [
        {
          "output_type": "stream",
          "name": "stdout",
          "text": [
            " My name is kundan \n",
            " My age is 17 years old \n",
            "I live in Daria chandigarh \n",
            " I studied in 11th class \n"
          ]
        }
      ]
    }
  ]
}