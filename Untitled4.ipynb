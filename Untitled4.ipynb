{
  "nbformat": 4,
  "nbformat_minor": 0,
  "metadata": {
    "colab": {
      "provenance": [],
      "authorship_tag": "ABX9TyNa6mlkXUoWIoNduItPrKeA",
      "include_colab_link": true
    },
    "kernelspec": {
      "name": "python3",
      "display_name": "Python 3"
    },
    "language_info": {
      "name": "python"
    }
  },
  "cells": [
    {
      "cell_type": "markdown",
      "metadata": {
        "id": "view-in-github",
        "colab_type": "text"
      },
      "source": [
        "<a href=\"https://colab.research.google.com/github/Kundan2008-create/Class-1-/blob/main/Untitled4.ipynb\" target=\"_parent\"><img src=\"https://colab.research.google.com/assets/colab-badge.svg\" alt=\"Open In Colab\"/></a>"
      ]
    },
    {
      "cell_type": "markdown",
      "source": [],
      "metadata": {
        "id": "v63E8ess_0F8"
      }
    },
    {
      "cell_type": "code",
      "execution_count": 16,
      "metadata": {
        "colab": {
          "base_uri": "https://localhost:8080/"
        },
        "id": "IuYATQKe95W_",
        "outputId": "8dd371ac-736e-4652-812c-f419bb1dc027"
      },
      "outputs": [
        {
          "output_type": "stream",
          "name": "stdout",
          "text": [
            "first_number and second_number 25\n",
            "first_number and second_number -5\n",
            "first_number and second_number 150\n",
            "first_number and second_number 0\n",
            "first_number and second_number , reminder\n"
          ]
        }
      ],
      "source": [
        "first_number = 10\n",
        "second_number = 15\n",
        "add = first_number+second_number\n",
        "sub = first_number-second_number\n",
        "product = first_number*second_number\n",
        "Division = first_number/second_number\n",
        "print(\"first_number and second_number\",add)\n",
        "print(\"first_number and second_number\" , sub)\n",
        "print(\"first_number and second_number\" , product)\n",
        "print(\"first_number and second_number\" , int(Division))\n",
        "print(\"first_number and second_number , reminder\")"
      ]
    },
    {
      "cell_type": "code",
      "source": [],
      "metadata": {
        "id": "-0ZwMg4WKDAU"
      },
      "execution_count": null,
      "outputs": []
    },
    {
      "cell_type": "code",
      "source": [
        "print(\"*BILL*\")\n",
        "butter_burger = 199\n",
        "da_la_zon_pizza = 159\n",
        "pizza_hub = 209\n",
        "total_bill = butter_burger + da_la_zon_pizza + pizza_hub\n",
        "discount = (total_bill*30) / 100\n",
        "payable_amount = total_bill - discount\n",
        "print(\"total payable amaount\", payable_amount)\n",
        "print(\"butter_pizza\", butter_burger  )\n",
        "print(\"da_la_zon_pizza\" , da_la_zon_pizza)\n",
        "print(\"pizza_hub\" , pizza_hub)\n",
        "print(\"*Heavy Discount on Pizza*\")\n",
        "print(\"-------------------------\")\n",
        "print(\" *Current Amount of pizza = 209*\")\n",
        "print(\"  But Today is 50 % discount on pizza\")\n",
        "print(\"      Total Amount of pizza = ---------\")\n",
        "print(\"                                104.5\")\n",
        "print(\"                              ----------\")\n",
        "\n"
      ],
      "metadata": {
        "colab": {
          "base_uri": "https://localhost:8080/"
        },
        "id": "lSGseqhBCPty",
        "outputId": "094ba5ef-3308-4bb6-9fcb-ad6c4fe1033c"
      },
      "execution_count": 41,
      "outputs": [
        {
          "output_type": "stream",
          "name": "stdout",
          "text": [
            "*BILL*\n",
            "total payable amaount 396.9\n",
            "butter_pizza 199\n",
            "da_la_zon_pizza 159\n",
            "pizza_hub 209\n",
            "*Heavy Discount on Pizza*\n",
            "-------------------------\n",
            " *Current Amount of pizza = 209*\n",
            "  But Today is 50 % discount on pizza\n",
            "      Total Amount of pizza = ---------\n",
            "                                104.5\n",
            "                              ----------\n"
          ]
        }
      ]
    }
  ]
}